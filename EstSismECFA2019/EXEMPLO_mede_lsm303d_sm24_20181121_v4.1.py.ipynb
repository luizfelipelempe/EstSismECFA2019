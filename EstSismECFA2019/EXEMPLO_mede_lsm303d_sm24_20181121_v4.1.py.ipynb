{
 "cells": [
  {
   "cell_type": "markdown",
   "metadata": {},
   "source": [
    "## <center> Aquisicao dos sinais sismicos dos sensores geofone e acelerometro MEMS <center>\n",
    "#### <center> Oscilação na ponte medidas em 27/11/2018 (Vibração), N = 600.000, $\\delta t = 0.002s$, $\\delta t total = 1200s$; ADC @ 860 Hz & gain 16 <center>                        \n",
    "\n",
    "#### <center> Local: Ponte no bairro Vila do Sul. Condições do ambiente: pessoas caminhando, tráfego de carros, motos e caminhão constantemente. O Rio sob a ponte era bastante ruidoso <center>\n",
    "    \n",
    "   ######  <center> obs: dT min no loop é aprox. 1.6 ms lendo geofone (0,6 ms) e eixo z do acelerômetro (1 ms) <center> \n",
    "\n",
    "##### <center>  Nome: Luiz Felipe Lempe<center>     "
   ]
  },
  {
   "cell_type": "code",
   "execution_count": 3,
   "metadata": {},
   "outputs": [
    {
     "ename": "ImportError",
     "evalue": "No module named envirophat",
     "output_type": "error",
     "traceback": [
      "\u001b[1;31m---------------------------------------------------------------------------\u001b[0m",
      "\u001b[1;31mImportError\u001b[0m                               Traceback (most recent call last)",
      "\u001b[1;32m<ipython-input-3-a79a136c66d2>\u001b[0m in \u001b[0;36m<module>\u001b[1;34m()\u001b[0m\n\u001b[1;32m----> 1\u001b[1;33m \u001b[1;32mfrom\u001b[0m \u001b[0menvirophat\u001b[0m \u001b[1;32mimport\u001b[0m \u001b[0mmotion\u001b[0m    \u001b[1;31m# Driver do LSM303D modificado para 800 Hz, só eixo z, banda de 362 Hz\u001b[0m\u001b[1;33m\u001b[0m\u001b[0m\n\u001b[0m\u001b[0;32m      2\u001b[0m \u001b[1;32mimport\u001b[0m \u001b[0mAdafruit_ADS1x15\u001b[0m\u001b[1;33m\u001b[0m\u001b[0m\n\u001b[0;32m      3\u001b[0m \u001b[1;32mimport\u001b[0m \u001b[0mmatplotlib\u001b[0m\u001b[1;33m.\u001b[0m\u001b[0mpyplot\u001b[0m \u001b[1;32mas\u001b[0m \u001b[0mplt\u001b[0m\u001b[1;33m\u001b[0m\u001b[0m\n\u001b[0;32m      4\u001b[0m \u001b[1;32mimport\u001b[0m \u001b[0mnumpy\u001b[0m \u001b[1;32mas\u001b[0m \u001b[0mnp\u001b[0m\u001b[1;33m\u001b[0m\u001b[0m\n\u001b[0;32m      5\u001b[0m \u001b[1;32mimport\u001b[0m \u001b[0mtime\u001b[0m\u001b[1;33m\u001b[0m\u001b[0m\n",
      "\u001b[1;31mImportError\u001b[0m: No module named envirophat"
     ]
    }
   ],
   "source": [
    "from envirophat import motion    # Driver do LSM303D modificado para 800 Hz, só eixo z, banda de 362 Hz\n",
    "import Adafruit_ADS1x15\n",
    "import matplotlib.pyplot as plt\n",
    "import numpy as np\n",
    "import time\n",
    "import math"
   ]
  },
  {
   "cell_type": "code",
   "execution_count": 4,
   "metadata": {},
   "outputs": [
    {
     "ename": "NameError",
     "evalue": "name 'Adafruit_ADS1x15' is not defined",
     "output_type": "error",
     "traceback": [
      "\u001b[1;31m---------------------------------------------------------------------------\u001b[0m",
      "\u001b[1;31mNameError\u001b[0m                                 Traceback (most recent call last)",
      "\u001b[1;32m<ipython-input-4-70f015bed764>\u001b[0m in \u001b[0;36m<module>\u001b[1;34m()\u001b[0m\n\u001b[1;32m----> 1\u001b[1;33m \u001b[0madc\u001b[0m \u001b[1;33m=\u001b[0m \u001b[0mAdafruit_ADS1x15\u001b[0m\u001b[1;33m.\u001b[0m\u001b[0mADS1115\u001b[0m\u001b[1;33m(\u001b[0m\u001b[1;33m)\u001b[0m\u001b[1;33m\u001b[0m\u001b[0m\n\u001b[0m\u001b[0;32m      2\u001b[0m \u001b[0mGAIN\u001b[0m \u001b[1;33m=\u001b[0m \u001b[1;36m16\u001b[0m\u001b[1;33m\u001b[0m\u001b[0m\n\u001b[0;32m      3\u001b[0m \u001b[0mRATE\u001b[0m \u001b[1;33m=\u001b[0m \u001b[1;36m860\u001b[0m\u001b[1;33m\u001b[0m\u001b[0m\n",
      "\u001b[1;31mNameError\u001b[0m: name 'Adafruit_ADS1x15' is not defined"
     ]
    }
   ],
   "source": [
    "adc = Adafruit_ADS1x15.ADS1115()\n",
    "GAIN = 16\n",
    "RATE = 860"
   ]
  },
  {
   "cell_type": "code",
   "execution_count": 5,
   "metadata": {},
   "outputs": [
    {
     "name": "stdout",
     "output_type": "stream",
     "text": [
      "A fazer N = 2048 medidas de intervalo dT = 0.002s resultando em tempo total T = 4.096s...\n"
     ]
    }
   ],
   "source": [
    "log = ('dados.csv')\n",
    "out = open(log, 'w')\n",
    "#out.write('\\nstart\\n')\n",
    "\n",
    "# N = 600000\n",
    "nummedidas = 600000\n",
    "# dT (intervalo entre medidas, em segundos)\n",
    "dT = 0.002\n",
    "# T = N*dT : tempo total de medidas\n",
    "print(\"A fazer N = {} medidas de intervalo dT = {}s resultando em tempo total T = {}s...\".format(nummedidas, dT, nummedidas*dT))"
   ]
  },
  {
   "cell_type": "code",
   "execution_count": 6,
   "metadata": {},
   "outputs": [
    {
     "name": "stdout",
     "output_type": "stream",
     "text": [
      "Amostragem comeca em 2 s\n"
     ]
    },
    {
     "ename": "NameError",
     "evalue": "name 'time' is not defined",
     "output_type": "error",
     "traceback": [
      "\u001b[1;31m---------------------------------------------------------------------------\u001b[0m",
      "\u001b[1;31mNameError\u001b[0m                                 Traceback (most recent call last)",
      "\u001b[1;32m<ipython-input-6-9ad964b14604>\u001b[0m in \u001b[0;36m<module>\u001b[1;34m()\u001b[0m\n\u001b[0;32m      4\u001b[0m     \u001b[1;32mprint\u001b[0m\u001b[1;33m(\u001b[0m\u001b[1;34m'Amostragem comeca em {} s'\u001b[0m\u001b[1;33m.\u001b[0m\u001b[0mformat\u001b[0m\u001b[1;33m(\u001b[0m\u001b[0mi\u001b[0m\u001b[1;33m)\u001b[0m\u001b[1;33m)\u001b[0m\u001b[1;33m\u001b[0m\u001b[0m\n\u001b[0;32m      5\u001b[0m     \u001b[0mi\u001b[0m \u001b[1;33m-=\u001b[0m \u001b[1;36m1\u001b[0m\u001b[1;33m\u001b[0m\u001b[0m\n\u001b[1;32m----> 6\u001b[1;33m     \u001b[0mtime\u001b[0m\u001b[1;33m.\u001b[0m\u001b[0msleep\u001b[0m\u001b[1;33m(\u001b[0m\u001b[1;36m1\u001b[0m\u001b[1;33m)\u001b[0m\u001b[1;33m\u001b[0m\u001b[0m\n\u001b[0m",
      "\u001b[1;31mNameError\u001b[0m: name 'time' is not defined"
     ]
    }
   ],
   "source": [
    "# Contagem regressiva antes de começar a medir\n",
    "i = 2\n",
    "while i > 0:\n",
    "    print('Amostragem comeca em {} s'.format(i))\n",
    "    i -= 1\n",
    "    time.sleep(1)"
   ]
  },
  {
   "cell_type": "code",
   "execution_count": null,
   "metadata": {},
   "outputs": [],
   "source": []
  }
 ],
 "metadata": {
  "kernelspec": {
   "display_name": "Python 2",
   "language": "python",
   "name": "python2"
  },
  "language_info": {
   "codemirror_mode": {
    "name": "ipython",
    "version": 2
   },
   "file_extension": ".py",
   "mimetype": "text/x-python",
   "name": "python",
   "nbconvert_exporter": "python",
   "pygments_lexer": "ipython2",
   "version": "2.7.16"
  }
 },
 "nbformat": 4,
 "nbformat_minor": 2
}
