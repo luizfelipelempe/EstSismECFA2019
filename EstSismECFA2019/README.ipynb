{
 "cells": [
  {
   "cell_type": "markdown",
   "metadata": {},
   "source": [
    "## <center> EstSismECFA2019 <center>\n",
    "### <center> PROJETO EstSismi - Estação Sísmica de baixo custo com Raspberry Pi, sensores geofone e acelerômetro MEMS<center>                        \n",
    "\n",
    " "
   ]
  },
  {
   "cell_type": "code",
   "execution_count": null,
   "metadata": {},
   "outputs": [],
   "source": [
    "Este trabalho teve como objetivo analisar a relacao sinal/ruido (SNR) da EstSism, uma estacao sismica confeccionada a baixo custo\n",
    "(USD120-190) utilizando computador de placa unica Raspberry Pi (RPi), sensores geofone SM-24 e acelerometro MEMS LSM303D.\n",
    "Para tanto,foram feitos diversos testes em laboratorio com os sensores em relacao a captacao do sinal sismico (sismo induzido)\n",
    "com a finalidade de calibra-los e, posteriormente, analisar o sinal spismico das aquisicoes feitas em campo.\n",
    "As medicoes em ambiente externo mostraram que o dispositivo sismico foi capaz de discriminar eventos sismicos de diferentes fontes, \n",
    "tais como sismos artificiais gerados por um carro e caminhao.\n"
   ]
  },
  {
   "cell_type": "code",
   "execution_count": null,
   "metadata": {},
   "outputs": [],
   "source": [
    "O primeiro software (EXEMPLO_mede_lsm303d_sm24_20181121_v4.1.py) e responsavel por fazer a aquisicao sismica concomitantemente dos sensores\n",
    "geofone e acelerometro MEMS. Os sinais sismicos preenchem um arquivo do tipo \".csv\". \n",
    "Ja o segundo software (EXEMPLO_Analise_OFICIAL_geofone_Vibracao_Ponte_600000samples_UFES_20182711.ipynb) importa o sinal sismico apenas\n",
    "do geofone, represento os sinais do dominio do tempo e frequencia para analise dos mesmos.\n",
    "Foi disponibilizado parte dos softwares responsaveis pela medicao e analise. No caso do geofone, sera representado apenas os sinais\n",
    "no dominio do tempo.\n"
   ]
  }
 ],
 "metadata": {
  "kernelspec": {
   "display_name": "Python 2",
   "language": "python",
   "name": "python2"
  },
  "language_info": {
   "codemirror_mode": {
    "name": "ipython",
    "version": 2
   },
   "file_extension": ".py",
   "mimetype": "text/x-python",
   "name": "python",
   "nbconvert_exporter": "python",
   "pygments_lexer": "ipython2",
   "version": "2.7.16"
  }
 },
 "nbformat": 4,
 "nbformat_minor": 2
}
